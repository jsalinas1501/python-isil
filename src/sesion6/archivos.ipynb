{
 "cells": [
  {
   "cell_type": "markdown",
   "metadata": {
    "collapsed": false
   },
   "source": [
    "# Archivos\n",
    "\n",
    "## Leyendo y escribiendo archivos\n",
    "\n",
    "La función open() devuelve un objeto archivo, y se usa normalmente con dos argumentos: **```open(nombre_de_archivo, modo='r')```**\n",
    "\n"
   ]
  },
  {
   "cell_type": "code",
   "execution_count": null,
   "metadata": {
    "collapsed": false
   },
   "outputs": [],
   "source": [
    "f = open('mi_archivo', 'w')\n",
    "print(f)"
   ]
  },
  {
   "cell_type": "markdown",
   "metadata": {},
   "source": [
    "## Modos:\n",
    "\n",
    "+ **r**  - Solo Lectura(**r**ead)\n",
    "+ **w**  - Solo Escritura(**w**rite)\n",
    "+ **a**  - Abre el archivo con el cursor al final del archivo(**a**dd)\n",
    "+ **b**  - Binario(**b**inario)\n",
    "+ **r+** - Escritura y Lectura con el cursor al principio del archivo"
   ]
  },
  {
   "cell_type": "markdown",
   "metadata": {},
   "source": [
    "Cuando se escribe en modo texto, por defecto se convierten los \\n a los finales de linea específicos de la plataforma.\n",
    "+ \\n en Unix\n",
    "+ \\r\\n en Windows\n",
    "\n",
    "Este cambio automático **está bien para archivos de texto**, pero **corrompería datos binarios como los de archivos JPEG o EXE**. Asegurate de usar modo binario cuando leas y escribas tales archivos."
   ]
  },
  {
   "cell_type": "markdown",
   "metadata": {},
   "source": [
    "## Leyendo UBIGEOS"
   ]
  },
  {
   "cell_type": "code",
   "execution_count": null,
   "metadata": {
    "collapsed": false
   },
   "outputs": [],
   "source": [
    "f = open('ubigeo_raw.csv', 'r')\n",
    "print(f.read()[:100])\n",
    "f.close()"
   ]
  },
  {
   "cell_type": "code",
   "execution_count": null,
   "metadata": {
    "collapsed": false
   },
   "outputs": [],
   "source": [
    "# f = open('ubigeo_raw.csv', 'rb')\n",
    "print(f.read()[:100])\n",
    "f.close()"
   ]
  },
  {
   "cell_type": "code",
   "execution_count": null,
   "metadata": {
    "collapsed": false
   },
   "outputs": [],
   "source": [
    "f = open('ubigeo_raw.csv', 'rb')\n",
    "for line in f.readlines():\n",
    "    print(line)\n",
    "f.close()"
   ]
  },
  {
   "cell_type": "code",
   "execution_count": null,
   "metadata": {
    "collapsed": false,
    "scrolled": false
   },
   "outputs": [],
   "source": [
    "f = open('ubigeo_raw.csv', 'r')\n",
    "\n",
    "for line in f.readlines()[1:]:\n",
    "    line.split(';')\n",
    "f.close()"
   ]
  },
  {
   "cell_type": "markdown",
   "metadata": {},
   "source": [
    "## Escribiendo UBIGEOS"
   ]
  },
  {
   "cell_type": "code",
   "execution_count": null,
   "metadata": {
    "collapsed": false
   },
   "outputs": [],
   "source": [
    "f = open('ubigeo_raw.csv', 'r')\n",
    "f_write = open('ubigeo_escritura_1.csv', 'w')\n",
    "\n",
    "for line in f.readlines()[1:]:\n",
    "    new_line = ';'.join(line.split(';')[:3])\n",
    "    new_line = new_line + '\\n'\n",
    "    f_write.write(new_line)\n",
    "f.close()\n",
    "f_write.close()"
   ]
  },
  {
   "cell_type": "markdown",
   "metadata": {},
   "source": [
    "### Desempaquetando datos."
   ]
  },
  {
   "cell_type": "code",
   "execution_count": null,
   "metadata": {
    "collapsed": false
   },
   "outputs": [],
   "source": [
    "f = open('ubigeo_raw.csv', 'r')\n",
    "\n",
    "for line in f.readlines()[1:]:\n",
    "    departamento, provincia, distrito, *_ = line.split(';')\n",
    "    print(departamento, provincia, distrito)\n",
    "f.close()"
   ]
  },
  {
   "cell_type": "markdown",
   "metadata": {},
   "source": [
    "### Limpiando la data"
   ]
  },
  {
   "cell_type": "code",
   "execution_count": null,
   "metadata": {
    "collapsed": false
   },
   "outputs": [],
   "source": [
    "f = open('ubigeo_raw.csv', 'r')\n",
    "\n",
    "for line in f.readlines()[1:]:\n",
    "    departamento, provincia, distrito, *_ = line.split(';')\n",
    "    cond1 = departamento and provincia and distrito\n",
    "    try:\n",
    "        cond2 = departamento.split()[0].isdigit()\n",
    "    except:\n",
    "        cond2 = False\n",
    "    if cond1 and cond2:\n",
    "        print(departamento, provincia, distrito)\n",
    "f.close()"
   ]
  },
  {
   "cell_type": "markdown",
   "metadata": {},
   "source": [
    "## Escribiendo UBIGEOS limpios"
   ]
  },
  {
   "cell_type": "code",
   "execution_count": null,
   "metadata": {
    "collapsed": false
   },
   "outputs": [],
   "source": [
    "f = open('ubigeo_raw.csv', 'r')\n",
    "f_write = open('ubigeo_escritura_limpia.csv', 'w')\n",
    "\n",
    "for line in f.readlines()[1:]:\n",
    "    departamento, provincia, distrito, *_ = line.split(';')\n",
    "    cond1 = departamento and provincia and distrito\n",
    "    try:\n",
    "        cond2 = departamento.split()[0].isdigit()\n",
    "    except:\n",
    "        cond2 = False\n",
    "    if cond1 and cond2:\n",
    "        new_line = ';'.join([departamento, provincia, distrito, '\\n'])\n",
    "        f_write.write(new_line)\n",
    "f.close()\n",
    "f_write.close()"
   ]
  },
  {
   "cell_type": "markdown",
   "metadata": {},
   "source": [
    "## Sentencia with\n",
    "\n",
    "No será necesario cerrar el archivo.\n",
    "\n",
    "### Refactorizando el código anterior"
   ]
  },
  {
   "cell_type": "code",
   "execution_count": null,
   "metadata": {
    "collapsed": true
   },
   "outputs": [],
   "source": [
    "with open('ubigeo_raw.csv', 'r') as f:\n",
    "    with open('ubigeo_escritura_limpia.csv', 'w') as f_write:\n",
    "        for line in f.readlines()[1:]:\n",
    "            departamento, provincia, distrito, *_ = line.split(';')\n",
    "            cond1 = departamento and provincia and distrito\n",
    "            try:\n",
    "                cond2 = departamento.split()[0].isdigit()\n",
    "            except:\n",
    "                cond2 = False\n",
    "            if cond1 and cond2:\n",
    "                new_line = ';'.join([departamento, provincia, distrito, '\\n'])\n",
    "                f_write.write(new_line)"
   ]
  },
  {
   "cell_type": "code",
   "execution_count": null,
   "metadata": {
    "collapsed": true
   },
   "outputs": [],
   "source": [
    "# Abriendo 2 archivos en un with.\n",
    "\n",
    "with open('ubigeo_raw.csv', 'r') as f, open('ubigeo_escritura_limpia.csv', 'w') as f_write:\n",
    "    for line in f.readlines()[1:]:\n",
    "        departamento, provincia, distrito, *_ = line.split(';')\n",
    "        cond1 = departamento and provincia and distrito\n",
    "        try:\n",
    "            cond2 = departamento.split()[0].isdigit()\n",
    "        except:\n",
    "            cond2 = False\n",
    "        if cond1 and cond2:\n",
    "            new_line = ';'.join([departamento, provincia, distrito, '\\n'])\n",
    "            f_write.write(new_line)"
   ]
  }
 ],
 "metadata": {
  "kernelspec": {
   "display_name": "Python 3",
   "language": "python",
   "name": "python3"
  },
  "language_info": {
   "codemirror_mode": {
    "name": "ipython",
    "version": 3
   },
   "file_extension": ".py",
   "mimetype": "text/x-python",
   "name": "python",
   "nbconvert_exporter": "python",
   "pygments_lexer": "ipython3",
   "version": "3.5.2"
  }
 },
 "nbformat": 4,
 "nbformat_minor": 1
}
