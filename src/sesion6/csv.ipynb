{
 "cells": [
  {
   "cell_type": "code",
   "execution_count": null,
   "metadata": {
    "collapsed": false
   },
   "outputs": [],
   "source": [
    "import csv\n",
    "\n",
    "with open('ubigeo_raw.csv', 'r') as f:\n",
    "    data = csv.reader(f)\n",
    "    for row in data:\n",
    "        print(row)"
   ]
  },
  {
   "cell_type": "code",
   "execution_count": null,
   "metadata": {
    "collapsed": false
   },
   "outputs": [],
   "source": [
    "import csv\n",
    "\n",
    "csv.register_dialect(\n",
    "    'mydialect',\n",
    "    delimiter = ';',\n",
    "    lineterminator = '\\r\\n',\n",
    ")\n",
    "\n",
    "with open('ubigeo_raw.csv', 'r') as f:\n",
    "    data = csv.reader(f, dialect='mydialect')\n",
    "    for row in data:\n",
    "        print(row)"
   ]
  },
  {
   "cell_type": "code",
   "execution_count": null,
   "metadata": {
    "collapsed": false
   },
   "outputs": [],
   "source": [
    "import csv\n",
    "\n",
    "csv.register_dialect(\n",
    "    'mydialect',\n",
    "    delimiter = ';',\n",
    "    lineterminator = '\\r\\n',\n",
    ")\n",
    "\n",
    "with open('ubigeo_raw.csv', 'r') as f, open('ubigeo_escritura_limpia.csv', 'w') as f_write:\n",
    "    data = csv.reader(f, dialect='mydialect')\n",
    "    clean_data = csv.writer(f_write, dialect='mydialect')\n",
    "    \n",
    "    for line in data:\n",
    "        departamento, provincia, distrito, *_ = line\n",
    "        cond1 = bool(departamento)\n",
    "        try:\n",
    "            cond2 = departamento.split()[0].isdigit()\n",
    "        except:\n",
    "            cond2 = False\n",
    "        if cond1 and cond2:\n",
    "\n",
    "            clean_data.writerow([departamento, provincia, distrito])"
   ]
  }
 ],
 "metadata": {
  "kernelspec": {
   "display_name": "Python 3",
   "language": "python",
   "name": "python3"
  },
  "language_info": {
   "codemirror_mode": {
    "name": "ipython",
    "version": 3
   },
   "file_extension": ".py",
   "mimetype": "text/x-python",
   "name": "python",
   "nbconvert_exporter": "python",
   "pygments_lexer": "ipython3",
   "version": "3.5.2"
  }
 },
 "nbformat": 4,
 "nbformat_minor": 1
}
