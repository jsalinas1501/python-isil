{
 "cells": [
  {
   "cell_type": "markdown",
   "metadata": {},
   "source": [
    "# Iteradores\n",
    "\n",
    "Un iterador es un objeto adherido al **protocolo de iterador** (iterator protocol) — basicamente esto significa que tiene un método next (***```next```*** por siguiente), el cual, cuando se le llama, devuelve el siguiente item en la secuencia y, cuando no queda nada para ser devuelto, lanza la excepción **```StopIteration```**."
   ]
  },
  {
   "cell_type": "code",
   "execution_count": null,
   "metadata": {
    "collapsed": false
   },
   "outputs": [],
   "source": [
    "lista = iter(['hola', 1, 12.44])\n",
    "print(type(lista))\n",
    "\n",
    "print(next(lista))\n",
    "print(next(lista))\n",
    "print(next(lista))\n",
    "\n",
    "print(next(lista))  # Error StopIteration.\n",
    "\n"
   ]
  },
  {
   "cell_type": "markdown",
   "metadata": {},
   "source": [
    "Un objeto iterador permite hacer bucles una única vez. Mantiene el estado (posición) de una iteración individual o, explicado de otra forma, cada bucle sobre una secuencia requiere un objeto iterador individual. Esto significa que podemos iterar sobre la misma secuencia más de una vez de forma concurrente. Separar la lógica de la iteración de la secuencia permite tener más de una forma diferente de iterar."
   ]
  },
  {
   "cell_type": "code",
   "execution_count": null,
   "metadata": {
    "collapsed": false
   },
   "outputs": [],
   "source": [
    "lista = iter(['hola', 1, 12.44])\n",
    "\n",
    "print(next(lista))\n",
    "\n",
    "# Imprime 1 y 12,44\n",
    "for i in lista:\n",
    "    print(i)\n",
    "    \n",
    "# No imprime nada.\n",
    "for i in lista:\n",
    "    print(i)"
   ]
  },
  {
   "cell_type": "markdown",
   "metadata": {},
   "source": [
    "La llamada del método ```__iter__``` en un contenedor es la forma más sencilla de tener un objeto iterador. La función iter hace eso por nosotros ahorrándonos tiempo de tecleado.\n"
   ]
  },
  {
   "cell_type": "code",
   "execution_count": null,
   "metadata": {
    "collapsed": false
   },
   "outputs": [],
   "source": [
    "lista = ['hola', 1, 12.44]\n",
    "\n",
    "iterador = lista.__iter__()\n",
    "print(next(iterador))\n",
    "print(next(iterador))\n",
    "print(next(iterador))"
   ]
  },
  {
   "cell_type": "markdown",
   "metadata": {},
   "source": [
    "# Generadores"
   ]
  },
  {
   "cell_type": "markdown",
   "metadata": {},
   "source": [
    "Una tercera manera de crear objetos iteradores es llamando a la función generador. Un generador es una función que contiene la palabra clave yield. Hay que destacar que la mera presencia de esta palabra clave cambia completamente la naturaleza de esta función: esta declaración yield no debe ser invocada, o incluso alcanzada, pero provoca que la función sea clasificada como un generador.\n",
    "\n",
    "> Un generador es una función que crea una secuencia de resultados en lugar de una valor individual. *David Beazley*\n",
    "\n",
    "Cuando se llama a `next` la función se ejecuta hasta el primer yield. Cada vez que una instrucción yield da un valor éste se convierte en el valor de retorno de next. Después de ejecutar la instrucción `yield`, la ejecución de la función se suspende."
   ]
  },
  {
   "cell_type": "code",
   "execution_count": null,
   "metadata": {
    "collapsed": false
   },
   "outputs": [],
   "source": [
    "def f():\n",
    "    print(\"-- start --\")\n",
    "    yield 3\n",
    "    print(\"-- middle --\")\n",
    "    yield 4\n",
    "    print(\"-- finished --\")"
   ]
  },
  {
   "cell_type": "code",
   "execution_count": null,
   "metadata": {
    "collapsed": true
   },
   "outputs": [],
   "source": [
    "generador = f()  # "
   ]
  },
  {
   "cell_type": "code",
   "execution_count": null,
   "metadata": {
    "collapsed": false
   },
   "outputs": [],
   "source": [
    "print(next(generador))  # Primer yield."
   ]
  },
  {
   "cell_type": "code",
   "execution_count": null,
   "metadata": {
    "collapsed": false
   },
   "outputs": [],
   "source": [
    "print(next(generador))  # Segundo yield."
   ]
  },
  {
   "cell_type": "code",
   "execution_count": null,
   "metadata": {
    "collapsed": false
   },
   "outputs": [],
   "source": [
    "print(next(generador))  # No queda más por retornar."
   ]
  }
 ],
 "metadata": {
  "kernelspec": {
   "display_name": "Python 3",
   "language": "python",
   "name": "python3"
  },
  "language_info": {
   "codemirror_mode": {
    "name": "ipython",
    "version": 3
   },
   "file_extension": ".py",
   "mimetype": "text/x-python",
   "name": "python",
   "nbconvert_exporter": "python",
   "pygments_lexer": "ipython3",
   "version": "3.5.2"
  }
 },
 "nbformat": 4,
 "nbformat_minor": 1
}
